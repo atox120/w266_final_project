{
 "cells": [
  {
   "cell_type": "code",
   "execution_count": 1,
   "id": "3b413587",
   "metadata": {},
   "outputs": [
    {
     "ename": "NameError",
     "evalue": "name 'json' is not defined",
     "output_type": "error",
     "traceback": [
      "\u001b[0;31m---------------------------------------------------------------------------\u001b[0m",
      "\u001b[0;31mNameError\u001b[0m                                 Traceback (most recent call last)",
      "Input \u001b[0;32mIn [1]\u001b[0m, in \u001b[0;36m<module>\u001b[0;34m\u001b[0m\n\u001b[1;32m      1\u001b[0m \u001b[38;5;28;01mwith\u001b[39;00m \u001b[38;5;28mopen\u001b[39m(\u001b[38;5;124m'\u001b[39m\u001b[38;5;124m../downloads/DocNLI_dataset/train.json\u001b[39m\u001b[38;5;124m'\u001b[39m) \u001b[38;5;28;01mas\u001b[39;00m json_file:\n\u001b[0;32m----> 2\u001b[0m     data \u001b[38;5;241m=\u001b[39m \u001b[43mjson\u001b[49m\u001b[38;5;241m.\u001b[39mload(json_file)\n\u001b[1;32m      3\u001b[0m \u001b[38;5;28mlen\u001b[39m(data)\n",
      "\u001b[0;31mNameError\u001b[0m: name 'json' is not defined"
     ]
    }
   ],
   "source": [
    "\n",
    "with open('../downloads/DocNLI_dataset/train.json') as json_file:\n",
    "    data = json.load(json_file)\n",
    "len(data)"
   ]
  },
  {
   "cell_type": "code",
   "execution_count": 21,
   "id": "218bfbe1",
   "metadata": {},
   "outputs": [],
   "source": [
    "from datasets import load_dataset,Dataset,concatenate_datasets,DatasetDict\n",
    "import json"
   ]
  },
  {
   "cell_type": "code",
   "execution_count": 14,
   "id": "ac33c7c9",
   "metadata": {},
   "outputs": [],
   "source": [
    "def CreateDict(addres,output_file):\n",
    "    \n",
    "    with open(addres) as json_file:\n",
    "        data = json.load(json_file)\n",
    "    \n",
    "    total_length=len(data)\n",
    "    idx=0\n",
    "    for row in data:\n",
    "        row['idx']=idx\n",
    "        idx+=1\n",
    "        row['inputs']='hypothesis: '+row['hypothesis']+' premise: ' + row['premise']\n",
    "        row['targets']=row['label']  \n",
    "        del row['label']\n",
    "        del row['hypothesis']\n",
    "        del row['premise']\n",
    "        \n",
    "    json_object = json.dumps({'data':data}, indent = 4)\n",
    " \n",
    "    # Writing to sample.json\n",
    "    with open(output_file, \"w\") as outfile:\n",
    "        outfile.write(json_object)\n",
    "\n"
   ]
  },
  {
   "cell_type": "code",
   "execution_count": 15,
   "id": "07af0b50",
   "metadata": {},
   "outputs": [],
   "source": [
    "CreateDict('../downloads/DocNLI_dataset/train.json',\"../downloads/DocNLI_dataset/train_processed.json\")"
   ]
  },
  {
   "cell_type": "code",
   "execution_count": 18,
   "id": "8dc5c6e5",
   "metadata": {},
   "outputs": [],
   "source": [
    "CreateDict('../downloads/DocNLI_dataset/dev.json',\"../downloads/DocNLI_dataset/val_processed.json\")"
   ]
  },
  {
   "cell_type": "code",
   "execution_count": 19,
   "id": "b5c00da7",
   "metadata": {},
   "outputs": [],
   "source": [
    "CreateDict('../downloads/DocNLI_dataset/test.json',\"../downloads/DocNLI_dataset/test_processed.json\")"
   ]
  },
  {
   "cell_type": "code",
   "execution_count": null,
   "id": "d7a6066e",
   "metadata": {},
   "outputs": [],
   "source": []
  },
  {
   "cell_type": "code",
   "execution_count": null,
   "id": "25f81b1d",
   "metadata": {},
   "outputs": [],
   "source": []
  },
  {
   "cell_type": "code",
   "execution_count": 22,
   "id": "3e54d6b0",
   "metadata": {},
   "outputs": [],
   "source": [
    "text_to_text_DocNLI=DatasetDict()"
   ]
  },
  {
   "cell_type": "code",
   "execution_count": 31,
   "id": "2c03d52c",
   "metadata": {},
   "outputs": [
    {
     "name": "stderr",
     "output_type": "stream",
     "text": [
      "Using custom data configuration default-62d0ebfbdf1629e9\n"
     ]
    },
    {
     "name": "stdout",
     "output_type": "stream",
     "text": [
      "Downloading and preparing dataset json/default to /root/.cache/huggingface/datasets/json/default-62d0ebfbdf1629e9/0.0.0/ac0ca5f5289a6cf108e706efcf040422dbbfa8e658dee6a819f20d76bb84d26b...\n"
     ]
    },
    {
     "data": {
      "application/vnd.jupyter.widget-view+json": {
       "model_id": "665691a9c47441de8fff7947e0daca8a",
       "version_major": 2,
       "version_minor": 0
      },
      "text/plain": [
       "  0%|          | 0/1 [00:00<?, ?it/s]"
      ]
     },
     "metadata": {},
     "output_type": "display_data"
    },
    {
     "data": {
      "application/vnd.jupyter.widget-view+json": {
       "model_id": "f9ff9876036c4e23ad09b171ad329536",
       "version_major": 2,
       "version_minor": 0
      },
      "text/plain": [
       "  0%|          | 0/1 [00:00<?, ?it/s]"
      ]
     },
     "metadata": {},
     "output_type": "display_data"
    },
    {
     "name": "stdout",
     "output_type": "stream",
     "text": [
      "Dataset json downloaded and prepared to /root/.cache/huggingface/datasets/json/default-62d0ebfbdf1629e9/0.0.0/ac0ca5f5289a6cf108e706efcf040422dbbfa8e658dee6a819f20d76bb84d26b. Subsequent calls will reuse this data.\n"
     ]
    },
    {
     "data": {
      "application/vnd.jupyter.widget-view+json": {
       "model_id": "afdc1a4fe33d4f7f9c55fe82aa1527ac",
       "version_major": 2,
       "version_minor": 0
      },
      "text/plain": [
       "  0%|          | 0/1 [00:00<?, ?it/s]"
      ]
     },
     "metadata": {},
     "output_type": "display_data"
    }
   ],
   "source": [
    "dataset= load_dataset('json', data_files=\"../downloads/DocNLI_dataset/test_processed.json\",field='data')"
   ]
  },
  {
   "cell_type": "code",
   "execution_count": 28,
   "id": "9c0068d6",
   "metadata": {},
   "outputs": [
    {
     "data": {
      "text/plain": [
       "DatasetDict({\n",
       "    train: Dataset({\n",
       "        features: ['idx', 'inputs', 'targets'],\n",
       "        num_rows: 234258\n",
       "    })\n",
       "})"
      ]
     },
     "execution_count": 28,
     "metadata": {},
     "output_type": "execute_result"
    }
   ],
   "source": [
    "dataset"
   ]
  },
  {
   "cell_type": "code",
   "execution_count": 33,
   "id": "7038a28d",
   "metadata": {},
   "outputs": [],
   "source": [
    "text_to_text_DocNLI['test']=dataset['train']"
   ]
  },
  {
   "cell_type": "code",
   "execution_count": 34,
   "id": "c5ca16cc",
   "metadata": {},
   "outputs": [
    {
     "data": {
      "text/plain": [
       "DatasetDict({\n",
       "    train: Dataset({\n",
       "        features: ['idx', 'inputs', 'targets'],\n",
       "        num_rows: 942314\n",
       "    })\n",
       "    validation: Dataset({\n",
       "        features: ['idx', 'inputs', 'targets'],\n",
       "        num_rows: 234258\n",
       "    })\n",
       "    test: Dataset({\n",
       "        features: ['idx', 'inputs', 'targets'],\n",
       "        num_rows: 267086\n",
       "    })\n",
       "})"
      ]
     },
     "execution_count": 34,
     "metadata": {},
     "output_type": "execute_result"
    }
   ],
   "source": [
    "text_to_text_DocNLI"
   ]
  },
  {
   "cell_type": "code",
   "execution_count": 39,
   "id": "f6da4ad6",
   "metadata": {},
   "outputs": [
    {
     "name": "stderr",
     "output_type": "stream",
     "text": [
      "Pushing split train to the Hub.\n",
      "The repository already exists: the `private` keyword argument will be ignored.\n"
     ]
    },
    {
     "data": {
      "application/vnd.jupyter.widget-view+json": {
       "model_id": "201bf9b817a34eeebd1ac56ceb262e0f",
       "version_major": 2,
       "version_minor": 0
      },
      "text/plain": [
       "Pushing dataset shards to the dataset hub:   0%|          | 0/4 [00:00<?, ?it/s]"
      ]
     },
     "metadata": {},
     "output_type": "display_data"
    },
    {
     "name": "stderr",
     "output_type": "stream",
     "text": [
      "Pushing split validation to the Hub.\n",
      "The repository already exists: the `private` keyword argument will be ignored.\n"
     ]
    },
    {
     "data": {
      "application/vnd.jupyter.widget-view+json": {
       "model_id": "a6ae5e4cf2d548709d058d33d48fe009",
       "version_major": 2,
       "version_minor": 0
      },
      "text/plain": [
       "Pushing dataset shards to the dataset hub:   0%|          | 0/2 [00:00<?, ?it/s]"
      ]
     },
     "metadata": {},
     "output_type": "display_data"
    },
    {
     "name": "stderr",
     "output_type": "stream",
     "text": [
      "Pushing split test to the Hub.\n",
      "The repository already exists: the `private` keyword argument will be ignored.\n"
     ]
    },
    {
     "data": {
      "application/vnd.jupyter.widget-view+json": {
       "model_id": "978b52132304460fb4e8c297063bcd12",
       "version_major": 2,
       "version_minor": 0
      },
      "text/plain": [
       "Pushing dataset shards to the dataset hub:   0%|          | 0/2 [00:00<?, ?it/s]"
      ]
     },
     "metadata": {},
     "output_type": "display_data"
    }
   ],
   "source": [
    "text_to_text_DocNLI.push_to_hub(\n",
    "        f\"stjokerli/TextToText_DocNLI_seqio\",\n",
    ")"
   ]
  },
  {
   "cell_type": "code",
   "execution_count": null,
   "id": "83146d51",
   "metadata": {},
   "outputs": [],
   "source": []
  }
 ],
 "metadata": {
  "kernelspec": {
   "display_name": "Python 3 (ipykernel)",
   "language": "python",
   "name": "python3"
  },
  "language_info": {
   "codemirror_mode": {
    "name": "ipython",
    "version": 3
   },
   "file_extension": ".py",
   "mimetype": "text/x-python",
   "name": "python",
   "nbconvert_exporter": "python",
   "pygments_lexer": "ipython3",
   "version": "3.8.12"
  }
 },
 "nbformat": 4,
 "nbformat_minor": 5
}
