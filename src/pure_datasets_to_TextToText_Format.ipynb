{
 "cells": [
  {
   "cell_type": "code",
   "execution_count": 1,
   "id": "fffd44aa",
   "metadata": {},
   "outputs": [
    {
     "name": "stderr",
     "output_type": "stream",
     "text": [
      "Reusing dataset super_glue (/root/.cache/huggingface/datasets/super_glue/cb/1.0.2/2fb163bca9085c1deb906aff20f00c242227ff704a4e8c9cfdfe820be3abfc83)\n"
     ]
    }
   ],
   "source": [
    "# hide_output\n",
    "from datasets import load_dataset\n",
    "\n",
    "cb_data = load_dataset(\"super_glue\",\"cb\")"
   ]
  },
  {
   "cell_type": "code",
   "execution_count": 2,
   "id": "97c3358b",
   "metadata": {},
   "outputs": [
    {
     "data": {
      "text/plain": [
       "DatasetDict({\n",
       "    train: Dataset({\n",
       "        features: ['premise', 'hypothesis', 'idx', 'label'],\n",
       "        num_rows: 250\n",
       "    })\n",
       "    validation: Dataset({\n",
       "        features: ['premise', 'hypothesis', 'idx', 'label'],\n",
       "        num_rows: 56\n",
       "    })\n",
       "    test: Dataset({\n",
       "        features: ['premise', 'hypothesis', 'idx', 'label'],\n",
       "        num_rows: 250\n",
       "    })\n",
       "})"
      ]
     },
     "execution_count": 2,
     "metadata": {},
     "output_type": "execute_result"
    }
   ],
   "source": [
    "cb_data"
   ]
  },
  {
   "cell_type": "code",
   "execution_count": 3,
   "id": "54e784c8",
   "metadata": {},
   "outputs": [
    {
     "name": "stderr",
     "output_type": "stream",
     "text": [
      "Loading cached processed dataset at /root/.cache/huggingface/datasets/super_glue/cb/1.0.2/2fb163bca9085c1deb906aff20f00c242227ff704a4e8c9cfdfe820be3abfc83/cache-80d0ae09bb936112.arrow\n",
      "Loading cached processed dataset at /root/.cache/huggingface/datasets/super_glue/cb/1.0.2/2fb163bca9085c1deb906aff20f00c242227ff704a4e8c9cfdfe820be3abfc83/cache-551ccb51822c3073.arrow\n",
      "Loading cached processed dataset at /root/.cache/huggingface/datasets/super_glue/cb/1.0.2/2fb163bca9085c1deb906aff20f00c242227ff704a4e8c9cfdfe820be3abfc83/cache-0f7254e473daa498.arrow\n"
     ]
    }
   ],
   "source": [
    "# process input\n",
    "cb_data=cb_data.map(lambda example: {'processed_input':'cb hypothesis: '+example['hypothesis']+' premise: ' + example['premise']})"
   ]
  },
  {
   "cell_type": "code",
   "execution_count": 4,
   "id": "126fc1c3",
   "metadata": {},
   "outputs": [
    {
     "data": {
      "text/plain": [
       "['cb hypothesis: the language was peeled down premise: It was a complex language. Not written down but handed down. One might say it was peeled down.',\n",
       " 'cb hypothesis: no women are allowed to take part in this ritual premise: It is part of their religion, a religion I do not scoff at as it holds many elements which match our own even though it lacks the truth of ours. At one of their great festivals they have the ritual of driving out the devils from their bodies. First the drummers come on - I may say that no women are allowed to take part in this ritual and the ladies here will perhaps agree with me that they are fortunate in that omission.']"
      ]
     },
     "execution_count": 4,
     "metadata": {},
     "output_type": "execute_result"
    }
   ],
   "source": [
    "cb_data['train']['processed_input'][:2]"
   ]
  },
  {
   "cell_type": "code",
   "execution_count": 5,
   "id": "c5da35c3",
   "metadata": {},
   "outputs": [
    {
     "data": {
      "application/vnd.jupyter.widget-view+json": {
       "model_id": "ac13b50252074d12b05e79ba2868aec3",
       "version_major": 2,
       "version_minor": 0
      },
      "text/plain": [
       "  0%|          | 0/250 [00:00<?, ?ex/s]"
      ]
     },
     "metadata": {},
     "output_type": "display_data"
    },
    {
     "data": {
      "application/vnd.jupyter.widget-view+json": {
       "model_id": "c011806b6088444a8f98493b9a36651a",
       "version_major": 2,
       "version_minor": 0
      },
      "text/plain": [
       "  0%|          | 0/56 [00:00<?, ?ex/s]"
      ]
     },
     "metadata": {},
     "output_type": "display_data"
    },
    {
     "data": {
      "application/vnd.jupyter.widget-view+json": {
       "model_id": "aa05dae5af134fbba8d6143b076dca56",
       "version_major": 2,
       "version_minor": 0
      },
      "text/plain": [
       "  0%|          | 0/250 [00:00<?, ?ex/s]"
      ]
     },
     "metadata": {},
     "output_type": "display_data"
    }
   ],
   "source": [
    "# process output\n",
    "\n",
    "# define the label converter\n",
    "def label_int2str(row): \n",
    "    return cb_data['train'].features['label'].int2str(row)\n",
    "\n",
    "\n",
    "cb_data=cb_data.map(lambda example: {'processed_output':label_int2str(example['label']) if example['label'] !=-1 else -1 })"
   ]
  },
  {
   "cell_type": "code",
   "execution_count": 6,
   "id": "e0453504",
   "metadata": {},
   "outputs": [
    {
     "data": {
      "text/plain": [
       "['entailment', 'entailment']"
      ]
     },
     "execution_count": 6,
     "metadata": {},
     "output_type": "execute_result"
    }
   ],
   "source": [
    "cb_data['train']['processed_output'][:2]"
   ]
  },
  {
   "cell_type": "code",
   "execution_count": 7,
   "id": "9def177d",
   "metadata": {},
   "outputs": [
    {
     "data": {
      "text/plain": [
       "DatasetDict({\n",
       "    train: Dataset({\n",
       "        features: ['premise', 'hypothesis', 'idx', 'label', 'processed_input', 'processed_output'],\n",
       "        num_rows: 250\n",
       "    })\n",
       "    validation: Dataset({\n",
       "        features: ['premise', 'hypothesis', 'idx', 'label', 'processed_input', 'processed_output'],\n",
       "        num_rows: 56\n",
       "    })\n",
       "    test: Dataset({\n",
       "        features: ['premise', 'hypothesis', 'idx', 'label', 'processed_input', 'processed_output'],\n",
       "        num_rows: 250\n",
       "    })\n",
       "})"
      ]
     },
     "execution_count": 7,
     "metadata": {},
     "output_type": "execute_result"
    }
   ],
   "source": [
    "cb_data"
   ]
  }
 ],
 "metadata": {
  "kernelspec": {
   "display_name": "Python 3 (ipykernel)",
   "language": "python",
   "name": "python3"
  },
  "language_info": {
   "codemirror_mode": {
    "name": "ipython",
    "version": 3
   },
   "file_extension": ".py",
   "mimetype": "text/x-python",
   "name": "python",
   "nbconvert_exporter": "python",
   "pygments_lexer": "ipython3",
   "version": "3.8.10"
  }
 },
 "nbformat": 4,
 "nbformat_minor": 5
}
