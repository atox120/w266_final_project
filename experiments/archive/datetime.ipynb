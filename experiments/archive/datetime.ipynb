{
 "cells": [
  {
   "cell_type": "code",
   "execution_count": 12,
   "id": "515bb0da",
   "metadata": {},
   "outputs": [
    {
     "name": "stdout",
     "output_type": "stream",
     "text": [
      "2022Mar11_211705\n"
     ]
    }
   ],
   "source": [
    "from datetime import datetime\n",
    "\n",
    "run_start = datetime.now()\n",
    "start_time = run_start.strftime(\"%Y%b%d_%H%M%S\")\n",
    "print(start_time)"
   ]
  },
  {
   "cell_type": "code",
   "execution_count": 13,
   "id": "836f0012",
   "metadata": {},
   "outputs": [
    {
     "name": "stdout",
     "output_type": "stream",
     "text": [
      "{'output_directory': '/workspace/w266_final_project/src/checkpoints/sweep1'}\n"
     ]
    }
   ],
   "source": [
    "run_name = \"sweep1\"\n",
    "output_directory = f\"/workspace/w266_final_project/src/checkpoints/{run_name}\" \n",
    "args = {}\n",
    "args.update({\"output_directory\":output_directory})\n",
    "print(args)"
   ]
  },
  {
   "cell_type": "code",
   "execution_count": 15,
   "id": "2e2cdf04",
   "metadata": {},
   "outputs": [
    {
     "name": "stdout",
     "output_type": "stream",
     "text": [
      "{'output_directory': '/workspace/w266_final_project/src/checkpoints/sweep1/2022Mar11_211705'}\n"
     ]
    }
   ],
   "source": [
    "args['output_directory'] = args['output_directory']+f\"/{start_time}\"\n",
    "print(args)"
   ]
  },
  {
   "cell_type": "code",
   "execution_count": null,
   "id": "7a33b8e4",
   "metadata": {},
   "outputs": [],
   "source": []
  }
 ],
 "metadata": {
  "kernelspec": {
   "display_name": "Python 3 (ipykernel)",
   "language": "python",
   "name": "python3"
  },
  "language_info": {
   "codemirror_mode": {
    "name": "ipython",
    "version": 3
   },
   "file_extension": ".py",
   "mimetype": "text/x-python",
   "name": "python",
   "nbconvert_exporter": "python",
   "pygments_lexer": "ipython3",
   "version": "3.8.12"
  }
 },
 "nbformat": 4,
 "nbformat_minor": 5
}
