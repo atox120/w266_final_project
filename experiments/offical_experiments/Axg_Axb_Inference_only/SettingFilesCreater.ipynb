{
 "cells": [
  {
   "cell_type": "code",
   "execution_count": 1,
   "id": "3e98be10",
   "metadata": {},
   "outputs": [],
   "source": [
    "# from run_arguments_Prompt_MNLI_run12 import load_run_arguments"
   ]
  },
  {
   "cell_type": "code",
   "execution_count": 1,
   "id": "0f2c3d97",
   "metadata": {},
   "outputs": [],
   "source": [
    "import json\n",
    "import os\n",
    "from os import listdir\n",
    "from os.path import isfile, join\n",
    "import shutil\n",
    "\n",
    "def SaveJsonFile(run_setting_files_output_folder,args,run_name):\n",
    "\n",
    "    print(f'{run_setting_files_output_folder}/{run_name}.json')\n",
    "    if os.path.isdir(run_setting_files_output_folder)==False:\n",
    "\n",
    "        os.mkdir(run_setting_files_output_folder)\n",
    "\n",
    "    with open(f'{run_setting_files_output_folder}/{run_name}.json', 'w') as outfile:\n",
    "        outfile.write(json.dumps(args,indent=4, sort_keys=True))"
   ]
  },
  {
   "cell_type": "code",
   "execution_count": 2,
   "id": "9ac2ad1d",
   "metadata": {},
   "outputs": [],
   "source": [
    "file_name=\"Prefix_bench_marks_rte.json\"\n",
    "official_experiment_folder='/workspace/w266_final_project/experiments/offical_experiments/'\n",
    "check_point_folder='/workspace/w266_final_project/model_checkpoints/offical_experiments_checkpoints/'"
   ]
  },
  {
   "cell_type": "code",
   "execution_count": 6,
   "id": "8922fc0d",
   "metadata": {},
   "outputs": [],
   "source": [
    "file_map_dict={\n",
    "    \"Prefix_Benchmark\":[\"Prefix_target_tunning/bench_marks/\",\n",
    "                       \"Prefix_target_tunning/bench_marks/Prefix_bench_marks_rte\"],\n",
    "    \"Prefix_MNLI\":[\"Prefix_target_tunning/target_transfer_learnings/\",\n",
    "                  \"Prefix_target_tunning/target_transfer_learnings/Prefix_target_transfer_learnings_rte\"],\n",
    "    \"Prefix_SQUAD\":[\"Squad_Prefix_target_tunning/target_transfer_learnings/\",\n",
    "                    \"Squad_Prefix_target_tunning/target_transfer_learnings/Squad_Prefix_target_transfer_learnings_rte\"],\n",
    "    \"Prompt_Benchmark\":[\"Prompt_target_tunning/bench_marks/\",\n",
    "                       \"Prompt_target_tunning/bench_marks/Prompt_bench_marks_rte\"],\n",
    "    \"Prompt_MNLI\":[\"Prompt_target_tunning/target_transfer_learnings/\",\n",
    "                  \"Prompt_target_tunning/target_transfer_learnings/Prompt_target_transfer_learnings_rte\"],\n",
    "    \"Prompt_SQUAD\":[\"Squad_Prompt_target_tunning/target_transfer_learnings/\",\n",
    "                   \"Squad_Prompt_target_tunning/target_transfer_learnings/Squad_Prompt_target_transfer_learnings_rte\"],\n",
    "    \"MAM_BN30_Benchmark\":[\"Mam_target_tunning/bench_marks/\",\n",
    "                         \"Mam_target_tunning/bench_marks/Mnli_Mam_bench_marks_rte\"],\n",
    "    \"MAM_BN30_MNLI\":[\"Mam_target_tunning/target_transfer_learnings/\",\n",
    "                     \"Mam_target_tunning/target_transfer_learnings/Mam_target_transfer_learnings_rte\"],\n",
    "    \"MAM_BN30_SQUAD\":[\"Squad_Mam_target_tunning/target_transfer_learnings/\",\n",
    "                     \"Squad_Mam_target_tunning/target_transfer_learnings/Squad_Mam_target_transfer_learnings_rte\"],\n",
    "    \"MAM_BN200_Benchmark\":[\"Mnli_Mam_target_tunning_r1/bench_marks/\",\n",
    "                          \"Mnli_Mam_target_tunning_r1/bench_marks/Mam_bn200_bench_mark_rte\"\n",
    "                          ],\n",
    "    \"MAM_BN200_MNLI\":[\"Mnli_Mam_target_tunning_r1/target_transfer_learnings/\",\n",
    "                     \"Mnli_Mam_target_tunning_r1/target_transfer_learnings/Mnli_Mam_target_transfer_learnings_rte\"],\n",
    "    \"MAM_BN200_SQUAD\":[\"Squad_Mam_target_tunning_r1/target_transfer_learnings/\",\n",
    "                        \"Squad_Mam_target_tunning_r1/target_transfer_learnings/Squad_Mam_bn200_transfer_learning_rte\"]\n",
    "}"
   ]
  },
  {
   "cell_type": "code",
   "execution_count": 7,
   "id": "cbf13e61",
   "metadata": {},
   "outputs": [],
   "source": [
    "tasks=[\n",
    "       'axb',\n",
    "        'axg',\n",
    "      ]"
   ]
  },
  {
   "cell_type": "code",
   "execution_count": 8,
   "id": "5864a294",
   "metadata": {},
   "outputs": [
    {
     "name": "stdout",
     "output_type": "stream",
     "text": [
      "/workspace/w266_final_project/experiments/offical_experiments/Axg_Axb_Inference_only/setting_files/Prompt_MNLI_axb_prediction_only.json\n",
      "/workspace/w266_final_project/experiments/offical_experiments/Axg_Axb_Inference_only/setting_files/Prompt_MNLI_axg_prediction_only.json\n",
      "/workspace/w266_final_project/experiments/offical_experiments/Axg_Axb_Inference_only/setting_files/Prompt_SQUAD_axb_prediction_only.json\n",
      "/workspace/w266_final_project/experiments/offical_experiments/Axg_Axb_Inference_only/setting_files/Prompt_SQUAD_axg_prediction_only.json\n",
      "/workspace/w266_final_project/experiments/offical_experiments/Axg_Axb_Inference_only/setting_files/MAM_BN30_Benchmark_axb_prediction_only.json\n",
      "/workspace/w266_final_project/experiments/offical_experiments/Axg_Axb_Inference_only/setting_files/MAM_BN30_Benchmark_axg_prediction_only.json\n",
      "/workspace/w266_final_project/experiments/offical_experiments/Axg_Axb_Inference_only/setting_files/MAM_BN30_MNLI_axb_prediction_only.json\n",
      "/workspace/w266_final_project/experiments/offical_experiments/Axg_Axb_Inference_only/setting_files/MAM_BN30_MNLI_axg_prediction_only.json\n",
      "/workspace/w266_final_project/experiments/offical_experiments/Axg_Axb_Inference_only/setting_files/MAM_BN30_SQUAD_axb_prediction_only.json\n",
      "/workspace/w266_final_project/experiments/offical_experiments/Axg_Axb_Inference_only/setting_files/MAM_BN30_SQUAD_axg_prediction_only.json\n",
      "/workspace/w266_final_project/experiments/offical_experiments/Axg_Axb_Inference_only/setting_files/MAM_BN200_Benchmark_axb_prediction_only.json\n",
      "/workspace/w266_final_project/experiments/offical_experiments/Axg_Axb_Inference_only/setting_files/MAM_BN200_Benchmark_axg_prediction_only.json\n",
      "/workspace/w266_final_project/experiments/offical_experiments/Axg_Axb_Inference_only/setting_files/MAM_BN200_MNLI_axb_prediction_only.json\n",
      "/workspace/w266_final_project/experiments/offical_experiments/Axg_Axb_Inference_only/setting_files/MAM_BN200_MNLI_axg_prediction_only.json\n",
      "/workspace/w266_final_project/experiments/offical_experiments/Axg_Axb_Inference_only/setting_files/MAM_BN200_SQUAD_axb_prediction_only.json\n",
      "/workspace/w266_final_project/experiments/offical_experiments/Axg_Axb_Inference_only/setting_files/MAM_BN200_SQUAD_axg_prediction_only.json\n"
     ]
    }
   ],
   "source": [
    "\n",
    "    \n",
    "\n",
    "    \n",
    "for key,value in file_map_dict.items():\n",
    "    \n",
    "    for task in tasks:\n",
    "    \n",
    "        setting_file_folder_path=official_experiment_folder+value[0]\n",
    "        check_point_fill_path=check_point_folder+value[1]\n",
    "        checkpoints_output_folder=f'/workspace/w266_final_project/model_checkpoints/offical_experiments_checkpoints/Axg_Axb_Inference_only/{key}_{task}'\n",
    "\n",
    "        mypath=setting_file_folder_path\n",
    "        onlyfiles = [f for f in listdir(mypath) if isfile(join(mypath, f))]\n",
    "        setting_file_name=[i for i in onlyfiles if '_rte.' in i][0]\n",
    "\n",
    "        settting_file_full_path=setting_file_folder_path+setting_file_name\n",
    "        \n",
    "        \n",
    "        f = open (settting_file_full_path, \"r\")\n",
    "        # Reading from file\n",
    "        args = json.loads(f.read())\n",
    "\n",
    "        shutil.copytree(check_point_fill_path, checkpoints_output_folder, symlinks=False, ignore=None, \n",
    "                    copy_function=shutil.copy2, ignore_dangling_symlinks=False, dirs_exist_ok=True)\n",
    "        \n",
    "        try:\n",
    "            os.remove(checkpoints_output_folder+'/generated_predictions_for_submission.txt')\n",
    "        except:\n",
    "            pass\n",
    "        \n",
    "        filename = checkpoints_output_folder+'/checkpoint-99000/trainer_state.json'\n",
    "        with open(filename, 'r') as f:\n",
    "            data = json.load(f)\n",
    "            data['best_model_checkpoint']=checkpoints_output_folder+'/'+data['best_model_checkpoint'].split('/')[-1]\n",
    "\n",
    "        os.remove(filename)\n",
    "        with open(filename, 'w') as f:\n",
    "            json.dump(data, f, indent=4)\n",
    "    \n",
    "        \n",
    "        \n",
    "        args['dataset_name']=f'stjokerli/TextToText_{task}_seqio'\n",
    "        args['output_dir']=checkpoints_output_folder\n",
    "        args[\"model_or_path\"]=checkpoints_output_folder\n",
    "        args[\"load_path\"]=checkpoints_output_folder\n",
    "        args[\"resume_from_checkpoint\"]=True            \n",
    "        args['per_device_train_batch_size']= 1\n",
    "        args['per_device_eval_batch_size']= 32\n",
    "        args['gradient_accumulation_steps']= 1\n",
    "        args['do_eval']= False\n",
    "        args['do_predict']= True\n",
    "        args['save_total_limit'] = 3\n",
    "        args[\"max_steps\"]= 1\n",
    "        args['max_grad_norm']=0.0001\n",
    "        args['run_name']=f'{key}_{task}_prediction_only'\n",
    "        args['overwrite_output_dir']=False\n",
    "        args['run_id']='Axg_Axb_Inference_only'\n",
    "\n",
    "        SaveJsonFile(official_experiment_folder+f'Axg_Axb_Inference_only/setting_files',args,args['run_name'])"
   ]
  },
  {
   "cell_type": "code",
   "execution_count": null,
   "id": "c2841059",
   "metadata": {},
   "outputs": [],
   "source": []
  },
  {
   "cell_type": "code",
   "execution_count": null,
   "id": "c9b2212f",
   "metadata": {},
   "outputs": [],
   "source": []
  },
  {
   "cell_type": "code",
   "execution_count": null,
   "id": "56edebf0",
   "metadata": {},
   "outputs": [],
   "source": []
  }
 ],
 "metadata": {
  "kernelspec": {
   "display_name": "Python 3 (ipykernel)",
   "language": "python",
   "name": "python3"
  },
  "language_info": {
   "codemirror_mode": {
    "name": "ipython",
    "version": 3
   },
   "file_extension": ".py",
   "mimetype": "text/x-python",
   "name": "python",
   "nbconvert_exporter": "python",
   "pygments_lexer": "ipython3",
   "version": "3.8.12"
  }
 },
 "nbformat": 4,
 "nbformat_minor": 5
}
