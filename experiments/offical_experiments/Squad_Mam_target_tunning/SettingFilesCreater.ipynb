{
 "cells": [
  {
   "cell_type": "code",
   "execution_count": 1,
   "id": "dc06659c",
   "metadata": {},
   "outputs": [],
   "source": [
    "# from run_arguments_Prompt_MNLI_run12 import load_run_arguments"
   ]
  },
  {
   "cell_type": "code",
   "execution_count": 1,
   "id": "d2fdf06f",
   "metadata": {},
   "outputs": [],
   "source": [
    "import json\n",
    "import os\n",
    "def SaveJsonFile(run_setting_files_output_folder,args,run_name):\n",
    "\n",
    "    print(f'{run_setting_files_output_folder}/{run_name}.json')\n",
    "    if os.path.isdir(run_setting_files_output_folder)==False:\n",
    "\n",
    "        os.mkdir(run_setting_files_output_folder)\n",
    "\n",
    "    with open(f'{run_setting_files_output_folder}/{run_name}.json', 'w') as outfile:\n",
    "        outfile.write(json.dumps(args,indent=4, sort_keys=True))"
   ]
  },
  {
   "cell_type": "code",
   "execution_count": 2,
   "id": "58cd07a3",
   "metadata": {},
   "outputs": [],
   "source": [
    "f = open ('Source_tunning_settings_5e-6.json', \"r\")\n",
    " \n",
    "# Reading from file\n",
    "args = json.loads(f.read())"
   ]
  },
  {
   "cell_type": "code",
   "execution_count": 3,
   "id": "d10addb0",
   "metadata": {},
   "outputs": [
    {
     "name": "stdout",
     "output_type": "stream",
     "text": [
      "{'attn_bn': 30, 'attn_composition': 'add', 'attn_mode': 'prefix', 'attn_option': 'concat', 'cache_dir': '/workspace/w266_final_project/dataset_checkpoints/PETL_model', 'dataset_name': 'stjokerli/TextToText_squad_seqio', 'disable_tqdm': True, 'do_eval': True, 'do_predict': True, 'do_train': True, 'eval_steps': 3000, 'evaluation_strategy': 'steps', 'ffn_adapter_init_option': 'lora', 'ffn_adapter_layernorm_option': 'none', 'ffn_adapter_scalar': 4, 'ffn_bn': 512, 'ffn_mode': 'adapter', 'ffn_option': 'parallel', 'fp16': True, 'gradient_accumulation_steps': 1, 'greater_is_better': True, 'label_smoothing_factor': 0.1, 'learning_rate': 5e-06, 'load_best_model_at_end': True, 'logging_steps': 500, 'lr_scheduler_type': 'polynomial', 'max_eval_samples': 1600, 'max_grad_norm': 0.1, 'max_length': 128, 'max_source_length': 512, 'max_steps': 260000, 'max_target_length': 128, 'metric_for_best_model': 'accuracy', 'mid_dim': 800, 'min_length': 1, 'model_name_or_path': 'facebook/bart-large', 'no_repeat_ngram_size': 3, 'num_beams': 5, 'num_train_epochs': 30, 'output_dir': '/workspace/w266_final_project/model_checkpoints/offical_experiments_checkpoints/Squad_Mam_target_tunning/source_model_5e-6', 'overwrite_output_dir': True, 'per_device_eval_batch_size': 32, 'per_device_train_batch_size': 32, 'predict_with_generate': True, 'preprocessing_num_workers': 4, 'project': 'Official_experiment', 'report_to': 'wandb', 'run_name': 'Mam_source_model_squad_5e-6', 'save_steps': 3000, 'save_strategy': 'steps', 'save_total_limit': 2, 'unfreeze_params': 'ef_', 'val_max_target_length': 128, 'warmup_steps': 0, 'weight_decay': 0.01}\n"
     ]
    },
    {
     "data": {
      "text/plain": [
       "5e-06"
      ]
     },
     "execution_count": 3,
     "metadata": {},
     "output_type": "execute_result"
    }
   ],
   "source": [
    "# args=load_run_arguments()\n",
    "\n",
    "\n",
    "print(args)\n",
    "# new_lr=args[\"learning_rate\"]/5\n",
    "new_lr=args[\"learning_rate\"]\n",
    "new_lr"
   ]
  },
  {
   "cell_type": "code",
   "execution_count": 5,
   "id": "0181d1ae",
   "metadata": {},
   "outputs": [
    {
     "name": "stdout",
     "output_type": "stream",
     "text": [
      "/workspace/w266_final_project/experiments/offical_experiments/Squad_Mam_target_tunning//Source_tunning_settings.json\n"
     ]
    }
   ],
   "source": [
    "\n",
    "frame_work_name='Squad_Mam'\n",
    "checkpoint_folder_name=\"checkpoint-258000\"\n",
    "\n",
    "run_setting_files_output_folder_root=f'/workspace/w266_final_project/experiments/offical_experiments/{frame_work_name}_target_tunning/'\n",
    "\n",
    "\n",
    "check_point_location=f\"/workspace/w266_final_project/model_checkpoints/offical_experiments_checkpoints/{frame_work_name}_target_tunning/source_model/{checkpoint_folder_name}\"\n",
    "\n",
    "SaveJsonFile(run_setting_files_output_folder_root,args,'Source_tunning_settings')"
   ]
  },
  {
   "cell_type": "code",
   "execution_count": 6,
   "id": "f78fea16",
   "metadata": {},
   "outputs": [
    {
     "name": "stdout",
     "output_type": "stream",
     "text": [
      "/workspace/w266_final_project/experiments/offical_experiments/Squad_Mam_target_tunning/target_transfer_learnings/Squad_Mam_target_transfer_learnings_cb.json\n",
      "/workspace/w266_final_project/experiments/offical_experiments/Squad_Mam_target_tunning/target_transfer_learnings/Squad_Mam_target_transfer_learnings_rte.json\n",
      "/workspace/w266_final_project/experiments/offical_experiments/Squad_Mam_target_tunning/target_transfer_learnings/Squad_Mam_target_transfer_learnings_copa.json\n",
      "/workspace/w266_final_project/experiments/offical_experiments/Squad_Mam_target_tunning/target_transfer_learnings/Squad_Mam_target_transfer_learnings_wsc.json\n",
      "/workspace/w266_final_project/experiments/offical_experiments/Squad_Mam_target_tunning/target_transfer_learnings/Squad_Mam_target_transfer_learnings_wic.json\n",
      "/workspace/w266_final_project/experiments/offical_experiments/Squad_Mam_target_tunning/target_transfer_learnings/Squad_Mam_target_transfer_learnings_record.json\n",
      "/workspace/w266_final_project/experiments/offical_experiments/Squad_Mam_target_tunning/target_transfer_learnings/Squad_Mam_target_transfer_learnings_boolq.json\n",
      "/workspace/w266_final_project/experiments/offical_experiments/Squad_Mam_target_tunning/target_transfer_learnings/Squad_Mam_target_transfer_learnings_copa.json\n",
      "/workspace/w266_final_project/experiments/offical_experiments/Squad_Mam_target_tunning/target_transfer_learnings/Squad_Mam_target_transfer_learnings_multirc.json\n"
     ]
    }
   ],
   "source": [
    "\n",
    "for base in [\n",
    "#     'bench_marks',\n",
    "             'target_transfer_learnings']:\n",
    "\n",
    "    for task_name in ['cb','rte','copa','wsc','wic','record','boolq','copa','multirc']:\n",
    "        \n",
    "        args[\"project\"]=\"Official_experiment\"\n",
    "        \n",
    "        args['dataset_name'] = f\"stjokerli/TextToText_{task_name}_seqio\"\n",
    "        args['run_name'] = run_name=f\"{frame_work_name}_{base}_{task_name}\"\n",
    "        args['output_dir'] = f\"/workspace/w266_final_project/model_checkpoints/offical_experiments_checkpoints/{frame_work_name}_target_tunning/{base}/{run_name}\" \n",
    "        \n",
    "        \n",
    "        args[\"max_eval_samples\"]= 1600\n",
    "        args[\"learning_rate\"]=new_lr\n",
    "        args[\"max_steps\"]= 100000\n",
    "        args['logging_steps']= 100\n",
    "        args['save_steps']=1500\n",
    "        args['eval_steps']=1500\n",
    "        \n",
    "        args['per_device_train_batch_size']= 32\n",
    "        args['per_device_eval_batch_size']= 32\n",
    "        args['gradient_accumulation_steps']= 1\n",
    "        \n",
    "        if base=='target_transfer_learnings':\n",
    "            \n",
    "            args[\"model_or_path\"]=check_point_location\n",
    "            args[\"load_path\"]=check_point_location\n",
    "            args[\"resume_from_checkpoint\"]=check_point_location\n",
    "            \n",
    "        SaveJsonFile(run_setting_files_output_folder_root+base,args,run_name)"
   ]
  },
  {
   "cell_type": "code",
   "execution_count": null,
   "id": "9f2e84ce",
   "metadata": {},
   "outputs": [],
   "source": []
  }
 ],
 "metadata": {
  "kernelspec": {
   "display_name": "Python 3 (ipykernel)",
   "language": "python",
   "name": "python3"
  },
  "language_info": {
   "codemirror_mode": {
    "name": "ipython",
    "version": 3
   },
   "file_extension": ".py",
   "mimetype": "text/x-python",
   "name": "python",
   "nbconvert_exporter": "python",
   "pygments_lexer": "ipython3",
   "version": "3.8.12"
  }
 },
 "nbformat": 4,
 "nbformat_minor": 5
}
