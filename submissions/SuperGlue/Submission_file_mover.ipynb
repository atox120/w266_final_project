{
 "cells": [
  {
   "cell_type": "code",
   "execution_count": 7,
   "id": "92708d39",
   "metadata": {},
   "outputs": [],
   "source": [
    "import json\n",
    "import shutil\n",
    "import os\n",
    "from json import JSONDecodeError\n",
    "\n",
    "def dump_jsonl(data, output_path, append=False):\n",
    "    \"\"\"\n",
    "    Write list of objects to a JSON lines file.\n",
    "    \"\"\"\n",
    "    mode = 'a+' if append else 'w'\n",
    "    with open(output_path, mode, encoding='utf-8') as f:\n",
    "        for line in data:\n",
    "            json_record = json.dumps(line, ensure_ascii=False)\n",
    "            f.write(json_record + '\\n')\n",
    "    print('Wrote {} records to {}'.format(len(data), output_path))\n",
    "\n",
    "def load_jsonl(input_path) -> list:\n",
    "    \"\"\"\n",
    "    Read list of objects from a JSON lines file.\n",
    "    \"\"\"\n",
    "    data = []\n",
    "    with open(input_path, 'r', encoding='utf-8') as f:\n",
    "        for line in f:\n",
    "            data.append(json.loads(line.rstrip('\\n|\\r')))\n",
    "    print('Loaded {} records from {}'.format(len(data), input_path))\n",
    "    return data\n",
    "\n",
    "from datasets import load_dataset\n",
    "def GetWscTargets():\n",
    "\n",
    "        dataset = load_dataset('stjokerli/TextToText_wsc_seqio', split='test')\n",
    "\n",
    "        target_map={}\n",
    "        for row in dataset:\n",
    "            target_map[row['idx']]=row['targets']\n",
    "        return target_map\n",
    "\n",
    "def GetMultiRCTargets(input_file):\n",
    "    file1 = open(input_file, 'r')\n",
    "    dataset = file1.readlines()\n",
    "    \n",
    "    result={}\n",
    "    for row in dataset:\n",
    "        \n",
    "#         print(row)\n",
    "        \n",
    "        pidx,qidx,aidx=row.split(', ')[0].split(': ')[1].split('-')\n",
    "        pidx,qidx,aidx=int(pidx),int(qidx),int(aidx)\n",
    "        \n",
    "        target=int((row[:-2].split(', ')[1].split(': ')[1][1:-1])=='True')\n",
    "        question_lablel_dict={\"idx\": aidx, \"label\": target}\n",
    "        if pidx not in result.keys():\n",
    "            result[pidx]={qidx:[question_lablel_dict]}\n",
    "        else:\n",
    "            if qidx not in result[pidx].keys():\n",
    "                result[pidx][qidx]=[question_lablel_dict]\n",
    "            else:\n",
    "                result[pidx][qidx].append(question_lablel_dict)\n",
    "\n",
    "    result2=[]\n",
    "    for p,v in result.items():\n",
    "        question_list=[]\n",
    "        for q,a in v.items():\n",
    "            question_list.append({\"idx\": q, \"answers\":a})\n",
    "        result2.append({\"idx\": p, \"passage\":{\"questions\":question_list}})    \n",
    "\n",
    "    return result2\n",
    "\n",
    "\n",
    "def GetRecordTargets(input_file):\n",
    "    \n",
    "    file1 = open(input_file, 'r')\n",
    "    dataset = file1.readlines()\n",
    "    \n",
    "    result=[]\n",
    "    for row in dataset:\n",
    "        try:\n",
    "            result.append(json.loads(row[:-1]))\n",
    "        except JSONDecodeError:\n",
    "            temp=row[:-1].split(': \"')\n",
    "            temp[-1]=temp[-1][:-2].replace('\"',r\"'\")+'\"}'\n",
    "            result.append(json.loads(': \"'.join(temp)))\n",
    "            \n",
    "    return result\n",
    "\n",
    "def MoveFiles(input_file,output_file):\n",
    "\n",
    "    \n",
    "    print('Starting',task_name)\n",
    "    if task_name=='MultiRC':\n",
    "        \n",
    "        contents=GetMultiRCTargets(input_file)\n",
    "    \n",
    "    elif task_name=='ReCoRD':\n",
    "        \n",
    "        contents=GetRecordTargets(input_file)\n",
    "        \n",
    "    else:\n",
    "        \n",
    "        contents=load_jsonl(input_file)\n",
    "    \n",
    "    if task_name in ['BoolQ','WiC']:\n",
    "        for e in contents:\n",
    "            e['label']=e['label'].lower()\n",
    "    \n",
    "    elif task_name=='COPA':\n",
    "        for e in contents:\n",
    "            e['label']=int(e['label'][-1])-1\n",
    "    \n",
    "    elif task_name=='WSC':\n",
    "        target_map=GetWscTargets()\n",
    "        for e in contents:\n",
    "            answer=target_map[e['idx']]==e['label']\n",
    "            e['label']=str(answer)\n",
    "    return dump_jsonl(contents, output_file, append=False)"
   ]
  },
  {
   "cell_type": "code",
   "execution_count": 8,
   "id": "6b53172c",
   "metadata": {},
   "outputs": [],
   "source": [
    "original_file_name='generated_predictions_for_submission.txt'\n",
    "model_checkpoints_root='/workspace/w266_final_project/model_checkpoints/'"
   ]
  },
  {
   "cell_type": "code",
   "execution_count": 9,
   "id": "d64abccd",
   "metadata": {},
   "outputs": [],
   "source": [
    "output_path='/workspace/w266_final_project/submissions/SuperGlue/20220322/'"
   ]
  },
  {
   "cell_type": "code",
   "execution_count": 14,
   "id": "1a44719f",
   "metadata": {},
   "outputs": [],
   "source": [
    "location_mapping={\n",
    "    # they need all data inorder to submit, so we give them the dummy data\n",
    "    'AX-g':'/workspace/w266_final_project/submissions/SuperGlue/OfficialSample/axg',\n",
    "    'AX-b':'/workspace/w266_final_project/submissions/SuperGlue/OfficialSample/axb',\n",
    "    \n",
    "    #transfer set\n",
    "    'BoolQ':model_checkpoints_root+'Prefix_bn50_target_tasks/Wanyu_mnli_prefix_bn50_boolq',\n",
    "    'CB':model_checkpoints_root+'Prefix_bn50_target_tasks/Wanyu_mnli_prefix_bn50_cb',\n",
    "    'COPA':model_checkpoints_root+'Prefix_bn50_target_tasks/Wanyu_mnli_prefix_bn50_copa',\n",
    "    'RTE':model_checkpoints_root+'Prefix_bn50_target_tasks/Wanyu_mnli_prefix_bn50_rte',\n",
    "    'WiC':model_checkpoints_root+'Prefix_bn50_target_tasks/Wanyu_mnli_prefix_bn50_wic',\n",
    "    'WSC':model_checkpoints_root+'Prefix_bn50_target_tasks/Wanyu_mnli_prefix_bn50_wsc',\n",
    "    'ReCoRD':model_checkpoints_root+'Prefix_bn50_target_tasks/Wanyu_mnli_prefix_bn50_record',\n",
    "    'MultiRC':model_checkpoints_root+'Prefix_bn50_target_tasks/Wanyu_mnli_prefix_bn50_multirc',\n",
    "    \n",
    "    #prefix set\n",
    "#     'BoolQ':model_checkpoints_root+'Wanyu_boolq_prefix_bn50',\n",
    "#     'CB':model_checkpoints_root+'cb_prefix_bn50',\n",
    "#     'COPA':model_checkpoints_root+'Wanyu_copa_prefix_bn50',\n",
    "#     'RTE':model_checkpoints_root+'Wanyu_rte_prefix_bn50',\n",
    "#     'WiC':model_checkpoints_root+'Wanyu_wic_prefix_bn50',\n",
    "#     'WSC':model_checkpoints_root+'Wanyu_wsc_prefix_bn50',\n",
    "#     'ReCoRD':model_checkpoints_root+'Wanyu_record_prefix_bn50',    \n",
    "#     'MultiRC':model_checkpoints_root+'Wanyu_multirc_prefix_bn50',\n",
    "\n",
    "\n",
    "}"
   ]
  },
  {
   "cell_type": "code",
   "execution_count": 15,
   "id": "8ef0fff0",
   "metadata": {},
   "outputs": [
    {
     "name": "stdout",
     "output_type": "stream",
     "text": [
      "Starting AX-g\n",
      "Loaded 356 records from /workspace/w266_final_project/submissions/SuperGlue/OfficialSample/axg/generated_predictions_for_submission.txt\n",
      "Wrote 356 records to /workspace/w266_final_project/submissions/SuperGlue/20220322/AX-g.jsonl\n",
      "Starting AX-b\n",
      "Loaded 1104 records from /workspace/w266_final_project/submissions/SuperGlue/OfficialSample/axb/generated_predictions_for_submission.txt\n",
      "Wrote 1104 records to /workspace/w266_final_project/submissions/SuperGlue/20220322/AX-b.jsonl\n",
      "Starting BoolQ\n",
      "Loaded 3245 records from /workspace/w266_final_project/model_checkpoints/Prefix_bn50_target_tasks/Wanyu_mnli_prefix_bn50_boolq/generated_predictions_for_submission.txt\n",
      "Wrote 3245 records to /workspace/w266_final_project/submissions/SuperGlue/20220322/BoolQ.jsonl\n",
      "Starting CB\n",
      "Loaded 250 records from /workspace/w266_final_project/model_checkpoints/Prefix_bn50_target_tasks/Wanyu_mnli_prefix_bn50_cb/generated_predictions_for_submission.txt\n",
      "Wrote 250 records to /workspace/w266_final_project/submissions/SuperGlue/20220322/CB.jsonl\n",
      "Starting COPA\n",
      "Loaded 500 records from /workspace/w266_final_project/model_checkpoints/Prefix_bn50_target_tasks/Wanyu_mnli_prefix_bn50_copa/generated_predictions_for_submission.txt\n",
      "Wrote 500 records to /workspace/w266_final_project/submissions/SuperGlue/20220322/COPA.jsonl\n",
      "Starting RTE\n",
      "Loaded 3000 records from /workspace/w266_final_project/model_checkpoints/Prefix_bn50_target_tasks/Wanyu_mnli_prefix_bn50_rte/generated_predictions_for_submission.txt\n",
      "Wrote 3000 records to /workspace/w266_final_project/submissions/SuperGlue/20220322/RTE.jsonl\n",
      "Starting WiC\n",
      "Loaded 1400 records from /workspace/w266_final_project/model_checkpoints/Prefix_bn50_target_tasks/Wanyu_mnli_prefix_bn50_wic/generated_predictions_for_submission.txt\n",
      "Wrote 1400 records to /workspace/w266_final_project/submissions/SuperGlue/20220322/WiC.jsonl\n",
      "Starting WSC\n",
      "Loaded 146 records from /workspace/w266_final_project/model_checkpoints/Prefix_bn50_target_tasks/Wanyu_mnli_prefix_bn50_wsc/generated_predictions_for_submission.txt\n"
     ]
    },
    {
     "name": "stderr",
     "output_type": "stream",
     "text": [
      "Using custom data configuration stjokerli--TextToText_wsc_seqio-e801d03970369d66\n",
      "Reusing dataset parquet (/root/.cache/huggingface/datasets/parquet/stjokerli--TextToText_wsc_seqio-e801d03970369d66/0.0.0/0b6d5799bb726b24ad7fc7be720c170d8e497f575d02d47537de9a5bac074901)\n"
     ]
    },
    {
     "name": "stdout",
     "output_type": "stream",
     "text": [
      "Wrote 146 records to /workspace/w266_final_project/submissions/SuperGlue/20220322/WSC.jsonl\n",
      "Starting ReCoRD\n",
      "Wrote 10000 records to /workspace/w266_final_project/submissions/SuperGlue/20220322/ReCoRD.jsonl\n",
      "Starting MultiRC\n",
      "Wrote 166 records to /workspace/w266_final_project/submissions/SuperGlue/20220322/MultiRC.jsonl\n"
     ]
    }
   ],
   "source": [
    "for task_name,check_point_folder in location_mapping.items():\n",
    "\n",
    "    input_file=check_point_folder+'/'+original_file_name\n",
    "    output_file=output_path+task_name+'.jsonl'\n",
    "    \n",
    "    if os.path.isdir(output_path):\n",
    "        pass\n",
    "    else:\n",
    "        os.mkdir(output_path)\n",
    "        \n",
    "    MoveFiles(input_file,output_file)"
   ]
  },
  {
   "cell_type": "code",
   "execution_count": 16,
   "id": "3ab8e363",
   "metadata": {},
   "outputs": [
    {
     "data": {
      "text/plain": [
       "'/workspace/w266_final_project/submissions/SuperGlue/20220322/20220322.zip'"
      ]
     },
     "execution_count": 16,
     "metadata": {},
     "output_type": "execute_result"
    }
   ],
   "source": [
    "#zip the folder\n",
    "file=shutil.make_archive(output_path, 'zip', output_path)\n",
    "# move the zip file into the folder\n",
    "shutil.move(file,output_path)"
   ]
  },
  {
   "cell_type": "code",
   "execution_count": null,
   "id": "7ecac412",
   "metadata": {},
   "outputs": [],
   "source": []
  },
  {
   "cell_type": "code",
   "execution_count": null,
   "id": "b4fd263b",
   "metadata": {},
   "outputs": [],
   "source": []
  }
 ],
 "metadata": {
  "kernelspec": {
   "display_name": "Python 3 (ipykernel)",
   "language": "python",
   "name": "python3"
  },
  "language_info": {
   "codemirror_mode": {
    "name": "ipython",
    "version": 3
   },
   "file_extension": ".py",
   "mimetype": "text/x-python",
   "name": "python",
   "nbconvert_exporter": "python",
   "pygments_lexer": "ipython3",
   "version": "3.8.12"
  }
 },
 "nbformat": 4,
 "nbformat_minor": 5
}
